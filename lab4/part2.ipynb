{
 "cells": [
  {
   "cell_type": "markdown",
   "source": [
    "## Обратная задача кинематика (сверка с part1)"
   ],
   "metadata": {
    "collapsed": false
   }
  },
  {
   "cell_type": "markdown",
   "source": [
    "#### Импорты"
   ],
   "metadata": {
    "collapsed": false
   }
  },
  {
   "cell_type": "code",
   "execution_count": 20,
   "outputs": [],
   "source": [
    "import math\n",
    "\n",
    "import numpy as np\n",
    "import sympy as sy\n",
    "\n",
    "from lab4.function4lab import positionsAndRotate, backKinematicsLab4"
   ],
   "metadata": {
    "collapsed": false,
    "pycharm": {
     "name": "#%%\n"
    }
   }
  },
  {
   "cell_type": "markdown",
   "source": [
    "#### Координаты звеньев (theta1, d2, theta3)"
   ],
   "metadata": {
    "collapsed": false
   }
  },
  {
   "cell_type": "code",
   "execution_count": 21,
   "outputs": [],
   "source": [
    "joint_coords = [math.pi, -10, math.pi / 2]"
   ],
   "metadata": {
    "collapsed": false,
    "pycharm": {
     "name": "#%%\n"
    }
   }
  },
  {
   "cell_type": "markdown",
   "source": [
    "#### Параметры Денавита-Хартенберга манипулятора"
   ],
   "metadata": {
    "collapsed": false
   }
  },
  {
   "cell_type": "code",
   "execution_count": 22,
   "outputs": [],
   "source": [
    "theta1, theta3, d2 = sy.symbols('theta1'), sy.symbols('theta3'), sy.symbols('d2')\n",
    "\n",
    "d = [10, d2, 0, 5]\n",
    "r = [0, 0, 0, 0]\n",
    "thetas = [theta1, -math.pi / 2, -math.pi / 2 - math.pi / 4 + theta3, -math.pi / 2]\n",
    "alpha = [-math.pi / 2 - math.pi / 4, -math.pi / 2, -math.pi / 2, 0]"
   ],
   "metadata": {
    "collapsed": false,
    "pycharm": {
     "name": "#%%\n"
    }
   }
  },
  {
   "cell_type": "markdown",
   "source": [
    "#### Вычислении позиций и матрицы поворота в прямой задаче"
   ],
   "metadata": {
    "collapsed": false
   }
  },
  {
   "cell_type": "code",
   "execution_count": 23,
   "outputs": [],
   "source": [
    "arg = {theta1: joint_coords[0], d2: joint_coords[1], theta3: joint_coords[2]}\n",
    "pos, R = positionsAndRotate(d, r, thetas, alpha, arg)"
   ],
   "metadata": {
    "collapsed": false,
    "pycharm": {
     "name": "#%%\n"
    }
   }
  },
  {
   "cell_type": "markdown",
   "source": [
    "#### Вычислении координат звеньев в обратной задаче по результатам прямой"
   ],
   "metadata": {
    "collapsed": false
   }
  },
  {
   "cell_type": "code",
   "execution_count": 24,
   "outputs": [],
   "source": [
    "back_theta1, back_theta3, back_d2 = backKinematicsLab4(pos[-1][0], pos[-1][1], pos[-1][2], R)"
   ],
   "metadata": {
    "collapsed": false,
    "pycharm": {
     "name": "#%%\n"
    }
   }
  },
  {
   "cell_type": "markdown",
   "source": [
    "#### Вычислении позиций и матрицы поворота в прямой задаче по результатам обратной"
   ],
   "metadata": {
    "collapsed": false
   }
  },
  {
   "cell_type": "code",
   "execution_count": 25,
   "outputs": [],
   "source": [
    "back_arg = {theta1: back_theta1, d2: back_d2, theta3: back_theta3}\n",
    "pos_ik, R_ik = positionsAndRotate(d, r, thetas, alpha, back_arg)"
   ],
   "metadata": {
    "collapsed": false,
    "pycharm": {
     "name": "#%%\n"
    }
   }
  },
  {
   "cell_type": "markdown",
   "source": [
    "###### Позиции по изначальным координатам звеньев"
   ],
   "metadata": {
    "collapsed": false
   }
  },
  {
   "cell_type": "code",
   "execution_count": 26,
   "outputs": [
    {
     "name": "stdout",
     "output_type": "stream",
     "text": [
      "[[ 0.     0.     0.   ]\n",
      " [ 0.     0.    10.   ]\n",
      " [ 0.     7.071 17.071]\n",
      " [ 0.     7.071 17.071]\n",
      " [ 0.     7.071 22.071]]\n"
     ]
    }
   ],
   "source": [
    "print(np.round(pos, 3))"
   ],
   "metadata": {
    "collapsed": false,
    "pycharm": {
     "name": "#%%\n"
    }
   }
  },
  {
   "cell_type": "markdown",
   "source": [
    "###### Матрица вращения по координатам звеньев из обратной задачи"
   ],
   "metadata": {
    "collapsed": false
   }
  },
  {
   "cell_type": "code",
   "execution_count": 27,
   "outputs": [
    {
     "name": "stdout",
     "output_type": "stream",
     "text": [
      "[[ 0.     0.     0.   ]\n",
      " [ 0.     0.    10.   ]\n",
      " [ 0.     7.071 17.071]\n",
      " [ 0.     7.071 17.071]\n",
      " [ 0.     7.071 22.071]]\n"
     ]
    }
   ],
   "source": [
    "print(np.round(pos_ik, 3))"
   ],
   "metadata": {
    "collapsed": false,
    "pycharm": {
     "name": "#%%\n"
    }
   }
  },
  {
   "cell_type": "markdown",
   "source": [
    "###### Матрица вращения по изначальным координатам звеньев"
   ],
   "metadata": {
    "collapsed": false
   }
  },
  {
   "cell_type": "code",
   "execution_count": 28,
   "outputs": [
    {
     "name": "stdout",
     "output_type": "stream",
     "text": [
      "[[-1. -0. -0.]\n",
      " [ 0. -1.  0.]\n",
      " [-0.  0.  1.]]\n"
     ]
    }
   ],
   "source": [
    "print(np.round(R, 2))"
   ],
   "metadata": {
    "collapsed": false,
    "pycharm": {
     "name": "#%%\n"
    }
   }
  },
  {
   "cell_type": "markdown",
   "source": [
    "###### Матрица вращения по координатам звеньев из обратной задачи"
   ],
   "metadata": {
    "collapsed": false
   }
  },
  {
   "cell_type": "code",
   "execution_count": 29,
   "outputs": [
    {
     "name": "stdout",
     "output_type": "stream",
     "text": [
      "[[-1. -0. -0.]\n",
      " [ 0. -1.  0.]\n",
      " [-0.  0.  1.]]\n"
     ]
    }
   ],
   "source": [
    "print(np.round(R_ik, 2))"
   ],
   "metadata": {
    "collapsed": false,
    "pycharm": {
     "name": "#%%\n"
    }
   }
  }
 ],
 "metadata": {
  "kernelspec": {
   "display_name": "Python 3",
   "language": "python",
   "name": "python3"
  },
  "language_info": {
   "codemirror_mode": {
    "name": "ipython",
    "version": 2
   },
   "file_extension": ".py",
   "mimetype": "text/x-python",
   "name": "python",
   "nbconvert_exporter": "python",
   "pygments_lexer": "ipython2",
   "version": "2.7.6"
  }
 },
 "nbformat": 4,
 "nbformat_minor": 0
}