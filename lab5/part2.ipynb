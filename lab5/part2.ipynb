{
 "cells": [
  {
   "cell_type": "markdown",
   "source": [
    "## Линейные и угловые скорости манипулятора PUMA"
   ],
   "metadata": {
    "collapsed": false
   }
  },
  {
   "cell_type": "markdown",
   "source": [
    "#### Импорты"
   ],
   "metadata": {
    "collapsed": false
   }
  },
  {
   "cell_type": "code",
   "execution_count": 52,
   "outputs": [],
   "source": [
    "from math import pi\n",
    "\n",
    "import numpy as np\n",
    "import sympy as sy\n",
    "\n",
    "from src.forwardkinematick import fkMatrix, fkFrames, transformMatrices\n",
    "from src.printers import printNumpyMatrix\n",
    "from src.speedkinematick import *"
   ],
   "metadata": {
    "collapsed": false,
    "pycharm": {
     "name": "#%%\n"
    }
   }
  },
  {
   "cell_type": "markdown",
   "source": [
    "#### Входные параметры"
   ],
   "metadata": {
    "collapsed": false
   }
  },
  {
   "cell_type": "code",
   "execution_count": 53,
   "outputs": [],
   "source": [
    "params = [pi / 2, -pi / 2, pi / 4, -pi / 6, pi / 8, -pi / 3]\n",
    "deltaParams = [0.1, -0.2, 0.3, 0.1, 0.4, -0.6]"
   ],
   "metadata": {
    "collapsed": false,
    "pycharm": {
     "name": "#%%\n"
    }
   }
  },
  {
   "cell_type": "markdown",
   "source": [
    "#### Параметры среды робота"
   ],
   "metadata": {
    "collapsed": false
   }
  },
  {
   "cell_type": "code",
   "execution_count": 54,
   "outputs": [],
   "source": [
    "theta1, theta2, theta3, theta4, theta5, theta6 = sy.symbols('theta1'), sy.symbols('theta2'), \\\n",
    "                                                 sy.symbols('theta3'), sy.symbols('theta4'), \\\n",
    "                                                 sy.symbols('theta5'), sy.symbols('theta6')\n",
    "\n",
    "r = [0, 8, 0, 0, 0, 0]\n",
    "alpha = [pi / 2, 0, -pi / 2, pi / 2, -pi / 2, 0]\n",
    "d = [13, -2.5, -2.5, 8, 0, 2.5]"
   ],
   "metadata": {
    "collapsed": false,
    "pycharm": {
     "name": "#%%\n"
    }
   }
  },
  {
   "cell_type": "markdown",
   "source": [
    "##### Параметры для углов, записываем в массив signThetas их знаки"
   ],
   "metadata": {
    "collapsed": false
   }
  },
  {
   "cell_type": "code",
   "execution_count": 55,
   "outputs": [],
   "source": [
    "signThetas = [1, 1, 1, 1, 1, 1]\n",
    "\n",
    "thetas = [signThetas[0] * theta1, signThetas[1] * theta2,\n",
    "          signThetas[2] * theta3, signThetas[3] * theta4,\n",
    "          signThetas[4] * theta5, signThetas[5] * theta6]\n",
    "\n",
    "arg = {theta1: params[0], theta2: params[1], theta3: params[2],\n",
    "       theta4: params[3], theta5: params[4], theta6:params[5] }"
   ],
   "metadata": {
    "collapsed": false,
    "pycharm": {
     "name": "#%%\n"
    }
   }
  },
  {
   "cell_type": "markdown",
   "source": [
    "#### Формирование всех матриц преобразования T(i-1, i)"
   ],
   "metadata": {
    "collapsed": false
   }
  },
  {
   "cell_type": "code",
   "execution_count": 56,
   "outputs": [],
   "source": [
    "links = transformMatrices(d, r, thetas, alpha)"
   ],
   "metadata": {
    "collapsed": false,
    "pycharm": {
     "name": "#%%\n"
    }
   }
  },
  {
   "cell_type": "markdown",
   "source": [
    "#### Формирование однородной матрицы преобразования"
   ],
   "metadata": {
    "collapsed": false
   }
  },
  {
   "cell_type": "code",
   "execution_count": 57,
   "outputs": [],
   "source": [
    "tform = fkMatrix(links)\n"
   ],
   "metadata": {
    "collapsed": false,
    "pycharm": {
     "name": "#%%\n"
    }
   }
  },
  {
   "cell_type": "markdown",
   "source": [
    "#### Формирование матриц преобразования T(0, i) где i от 0 до N"
   ],
   "metadata": {
    "collapsed": false
   }
  },
  {
   "cell_type": "code",
   "execution_count": 58,
   "outputs": [],
   "source": [
    "frames = fkFrames(links)"
   ],
   "metadata": {
    "collapsed": false,
    "pycharm": {
     "name": "#%%\n"
    }
   }
  },
  {
   "cell_type": "markdown",
   "source": [
    "#### Расчет линейной скорости"
   ],
   "metadata": {
    "collapsed": false
   }
  },
  {
   "cell_type": "code",
   "execution_count": 59,
   "outputs": [
    {
     "name": "stdout",
     "output_type": "stream",
     "text": [
      "~~~~~\n",
      "[-1.05]\n",
      "[-3.81]\n",
      "[1.0]\n",
      "~~~~~\n"
     ]
    }
   ],
   "source": [
    "linear_speed = linearSpeed(tform, arg, deltaParams)\n",
    "\n",
    "printNumpyMatrix(linear_speed)"
   ],
   "metadata": {
    "collapsed": false,
    "pycharm": {
     "name": "#%%\n"
    }
   }
  },
  {
   "cell_type": "markdown",
   "source": [
    "#### Расчет угловой скорости"
   ],
   "metadata": {
    "collapsed": false,
    "pycharm": {
     "name": "#%% md\n"
    }
   }
  },
  {
   "cell_type": "markdown",
   "source": [
    "##### Меняем знаки поворотов в соответствии с направлением угла вращения"
   ],
   "metadata": {
    "collapsed": false
   }
  },
  {
   "cell_type": "code",
   "execution_count": 60,
   "outputs": [
    {
     "name": "stdout",
     "output_type": "stream",
     "text": [
      "~~~~~\n",
      "[0.56]\n",
      "[-0.32]\n",
      "[-0.22]\n",
      "~~~~~\n"
     ]
    }
   ],
   "source": [
    "deltaParamsNumbers = [deltaParams[i] * signThetas[i] for i in range(len(deltaParams))]\n",
    "\n",
    "angle_speed = angleSpeed(frames, arg, deltaParamsNumbers)\n",
    "\n",
    "printNumpyMatrix(angle_speed)\n"
   ],
   "metadata": {
    "collapsed": false,
    "pycharm": {
     "name": "#%%\n"
    }
   }
  }
 ],
 "metadata": {
  "kernelspec": {
   "display_name": "Python 3",
   "language": "python",
   "name": "python3"
  },
  "language_info": {
   "codemirror_mode": {
    "name": "ipython",
    "version": 2
   },
   "file_extension": ".py",
   "mimetype": "text/x-python",
   "name": "python",
   "nbconvert_exporter": "python",
   "pygments_lexer": "ipython2",
   "version": "2.7.6"
  }
 },
 "nbformat": 4,
 "nbformat_minor": 0
}