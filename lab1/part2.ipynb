{
 "cells": [
  {
   "cell_type": "markdown",
   "source": [
    "## Поворот рандомного вектора на рандомные углы вокруг осей X, Y, Z"
   ],
   "metadata": {
    "collapsed": false
   }
  },
  {
   "cell_type": "markdown",
   "source": [],
   "metadata": {
    "collapsed": false
   }
  },
  {
   "cell_type": "markdown",
   "source": [
    "#### Импорты"
   ],
   "metadata": {
    "collapsed": false
   }
  },
  {
   "cell_type": "code",
   "execution_count": 1,
   "metadata": {
    "collapsed": true
   },
   "outputs": [],
   "source": [
    "%matplotlib inline\n",
    "import random\n",
    "\n",
    "import matplotlib.pyplot as plt\n",
    "from matplotlib.ticker import AutoMinorLocator\n",
    "\n",
    "from robobase.rotate import randomRotate"
   ]
  },
  {
   "cell_type": "markdown",
   "source": [
    "#### Создание рандомного вектора размером 1x3"
   ],
   "metadata": {
    "collapsed": false
   }
  },
  {
   "cell_type": "code",
   "execution_count": 2,
   "outputs": [],
   "source": [
    "origin = [2 * random.random() - 1 for i in range(3)]"
   ],
   "metadata": {
    "collapsed": false,
    "pycharm": {
     "name": "#%%\n"
    }
   }
  },
  {
   "cell_type": "markdown",
   "source": [
    "#### Создание нового вектора, повернутого на рандомный угол вокруг осей x, y, z"
   ],
   "metadata": {
    "collapsed": false
   }
  },
  {
   "cell_type": "code",
   "execution_count": 3,
   "outputs": [],
   "source": [
    "rotatedV = randomRotate(origin)\n"
   ],
   "metadata": {
    "collapsed": false,
    "pycharm": {
     "name": "#%%\n"
    }
   }
  },
  {
   "cell_type": "markdown",
   "source": [
    "### Отрисовка векторов"
   ],
   "metadata": {
    "collapsed": false
   }
  },
  {
   "cell_type": "code",
   "execution_count": 4,
   "outputs": [
    {
     "data": {
      "text/plain": "<Figure size 432x288 with 1 Axes>",
      "image/png": "[encoded data removed]"
     },
     "metadata": {
      "needs_background": "light"
     },
     "output_type": "display_data"
    }
   ],
   "source": [
    "fig = plt.figure()\n",
    "ax = fig.add_subplot(111, projection='3d')\n",
    "\n",
    "\n",
    "lengthAxis = 2\n",
    "ax.plot([0, lengthAxis], [0, 0], [0, 0], color=\"red\")\n",
    "ax.plot([0, 0], [0, lengthAxis], [0, 0], color=\"green\")\n",
    "ax.plot([0, 0], [0, 0], [0, lengthAxis], color=\"blue\")\n",
    "\n",
    "\n",
    "ax.plot([0, origin[0]], [0, origin[1]], [0, origin[2]], linestyle=\"dashed\", color=\"black\")\n",
    "ax.plot([0, rotatedV[0]], [0, rotatedV[1]], [0, rotatedV[2]], linestyle=\"dotted\", color=\"black\")\n",
    "\n",
    "\n",
    "ax.scatter(origin[0], origin[1], origin[2], c='red', s=50)\n",
    "ax.text(origin[0], origin[1], origin[2],\n",
    "        \"(\" + str(round(origin[0], 3)) + \", \" + str(round(origin[1], 3)) + \", \" + str(round(origin[2], 3)) + \")\",\n",
    "        size=10, zorder=1, color='k')\n",
    "\n",
    "ax.scatter(rotatedV[0], rotatedV[1], rotatedV[2], c='blue', s=50)\n",
    "ax.text(rotatedV[0], rotatedV[1], rotatedV[2],\n",
    "        \"(\" + str(round(rotatedV[0], 3)) + \", \" + str(round(rotatedV[1], 3)) + \", \" + str(round(rotatedV[2], 3)) + \")\",\n",
    "        size=10, zorder=1, color='k')\n",
    "\n",
    "ax.grid(False)\n",
    "ax.set_xlabel('$X$', fontsize=20)\n",
    "ax.set_ylabel('$Y$', fontsize=20)\n",
    "ax.set_zlabel('$Z$', fontsize=20)\n",
    "ax.xaxis.set_minor_locator(AutoMinorLocator())\n",
    "ax.yaxis.set_minor_locator(AutoMinorLocator())\n",
    "ax.tick_params(which='major', length=10, width=2)\n",
    "ax.tick_params(which='minor', length=5, width=1)\n",
    "plt.show()"
   ],
   "metadata": {
    "collapsed": false,
    "pycharm": {
     "name": "#%%\n"
    }
   }
  }
 ],
 "metadata": {
  "kernelspec": {
   "display_name": "Python 3",
   "language": "python",
   "name": "python3"
  },
  "language_info": {
   "codemirror_mode": {
    "name": "ipython",
    "version": 2
   },
   "file_extension": ".py",
   "mimetype": "text/x-python",
   "name": "python",
   "nbconvert_exporter": "python",
   "pygments_lexer": "ipython2",
   "version": "2.7.6"
  }
 },
 "nbformat": 4,
 "nbformat_minor": 0
}