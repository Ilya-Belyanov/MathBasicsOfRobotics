{
 "cells": [
  {
   "cell_type": "markdown",
   "source": [
    "## Создание матрицы поворота из кватерниона\n"
   ],
   "metadata": {
    "collapsed": false
   }
  },
  {
   "cell_type": "markdown",
   "source": [
    "#### Импорты"
   ],
   "metadata": {
    "collapsed": false
   }
  },
  {
   "cell_type": "code",
   "execution_count": 1,
   "metadata": {
    "collapsed": true
   },
   "outputs": [],
   "source": [
    "from robobase.quaternion import Quaternion\n",
    "from src.support import printQuaternion"
   ]
  },
  {
   "cell_type": "markdown",
   "source": [
    "#### Создание"
   ],
   "metadata": {
    "collapsed": false
   }
  },
  {
   "cell_type": "code",
   "execution_count": 2,
   "outputs": [
    {
     "name": "stdout",
     "output_type": "stream",
     "text": [
      "~~~~~\n",
      "Scalar:  -0.416\n",
      "Vector: [ 0.3523 -0.3074  0.78  ]\n",
      "Is Unit:  True\n",
      "~~~~~\n",
      "[[-0.40578952  0.43236596  0.8053448 ]\n",
      " [-0.86555404 -0.46503058 -0.1864304 ]\n",
      " [ 0.2938312  -0.7726576   0.5627799 ]]\n"
     ]
    }
   ],
   "source": [
    "a5 = Quaternion(-0.4161, [0.3523, -0.3074, 0.7800])\n",
    "R = a5.toRotateMatrix()\n",
    "printQuaternion(a5)\n",
    "print(R)"
   ],
   "metadata": {
    "collapsed": false,
    "pycharm": {
     "name": "#%%\n"
    }
   }
  }
 ],
 "metadata": {
  "kernelspec": {
   "display_name": "Python 3",
   "language": "python",
   "name": "python3"
  },
  "language_info": {
   "codemirror_mode": {
    "name": "ipython",
    "version": 2
   },
   "file_extension": ".py",
   "mimetype": "text/x-python",
   "name": "python",
   "nbconvert_exporter": "python",
   "pygments_lexer": "ipython2",
   "version": "2.7.6"
  }
 },
 "nbformat": 4,
 "nbformat_minor": 0
}