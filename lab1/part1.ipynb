{
 "cells": [
  {
   "cell_type": "markdown",
   "source": [
    "## Векторное умножение кватернионов"
   ],
   "metadata": {
    "collapsed": false
   }
  },
  {
   "cell_type": "markdown",
   "metadata": {
    "collapsed": true,
    "pycharm": {
     "name": "#%% md\n"
    }
   },
   "source": [
    "#### Импорты"
   ]
  },
  {
   "cell_type": "code",
   "execution_count": 3,
   "outputs": [],
   "source": [
    "from robobase.quaternion import Quaternion\n",
    "from src.support import printQuaternion"
   ],
   "metadata": {
    "collapsed": false,
    "pycharm": {
     "name": "#%%\n"
    }
   }
  },
  {
   "cell_type": "markdown",
   "source": [
    "#### Умножение"
   ],
   "metadata": {
    "collapsed": false
   }
  },
  {
   "cell_type": "code",
   "execution_count": 4,
   "outputs": [
    {
     "name": "stdout",
     "output_type": "stream",
     "text": [
      "~~~~~\n",
      "Scalar:  1\n",
      "Vector: [0 0 0]\n",
      "Is Unit:  True\n",
      "~~~~~\n",
      "~~~~~\n",
      "Scalar:  0\n",
      "Vector: [0 1 0]\n",
      "Is Unit:  True\n",
      "~~~~~\n",
      "~~~~~\n",
      "Scalar:  0\n",
      "Vector: [0 1 0]\n",
      "Is Unit:  True\n",
      "~~~~~\n"
     ]
    }
   ],
   "source": [
    "a1 = Quaternion(scalar=1, vector=[0, 0, 0])\n",
    "a2 = Quaternion(scalar=0, vector=[0, 1, 0])\n",
    "a3 = a1 * a2\n",
    "printQuaternion(a1)\n",
    "printQuaternion(a2)\n",
    "printQuaternion(a3)"
   ],
   "metadata": {
    "collapsed": false,
    "pycharm": {
     "name": "#%%\n"
    }
   }
  }
 ],
 "metadata": {
  "kernelspec": {
   "display_name": "Python 3",
   "language": "python",
   "name": "python3"
  },
  "language_info": {
   "codemirror_mode": {
    "name": "ipython",
    "version": 2
   },
   "file_extension": ".py",
   "mimetype": "text/x-python",
   "name": "python",
   "nbconvert_exporter": "python",
   "pygments_lexer": "ipython2",
   "version": "2.7.6"
  }
 },
 "nbformat": 4,
 "nbformat_minor": 0
}