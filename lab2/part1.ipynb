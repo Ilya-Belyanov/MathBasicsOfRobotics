{
 "cells": [
  {
   "cell_type": "markdown",
   "source": [
    "## Создание кватерниона из угла и оси вращения\n"
   ],
   "metadata": {
    "collapsed": false
   }
  },
  {
   "cell_type": "markdown",
   "source": [
    "#### Импорты"
   ],
   "metadata": {
    "collapsed": false
   }
  },
  {
   "cell_type": "code",
   "execution_count": 1,
   "metadata": {
    "collapsed": true,
    "pycharm": {
     "name": "#%%\n"
    }
   },
   "outputs": [],
   "source": [
    "from src.quaternion import Quaternion\n",
    "from src.printers import printQuaternion"
   ]
  },
  {
   "cell_type": "markdown",
   "source": [
    "#### Создание кватерниона"
   ],
   "metadata": {
    "collapsed": false
   }
  },
  {
   "cell_type": "code",
   "execution_count": 2,
   "outputs": [
    {
     "name": "stdout",
     "output_type": "stream",
     "text": [
      "~~~~~\n",
      "Scalar:  -0.184\n",
      "Vector: [-0.14321907  0.58742427 -0.7749754 ]\n",
      "Is Unit:  True\n",
      "~~~~~\n"
     ]
    }
   ],
   "source": [
    "a5 = Quaternion.fromAngleAndVector(3.5112, [-0.1457, 0.5976, -0.7884])\n",
    "printQuaternion(a5)"
   ],
   "metadata": {
    "collapsed": false,
    "pycharm": {
     "name": "#%%\n"
    }
   }
  }
 ],
 "metadata": {
  "kernelspec": {
   "display_name": "Python 3",
   "language": "python",
   "name": "python3"
  },
  "language_info": {
   "codemirror_mode": {
    "name": "ipython",
    "version": 2
   },
   "file_extension": ".py",
   "mimetype": "text/x-python",
   "name": "python",
   "nbconvert_exporter": "python",
   "pygments_lexer": "ipython2",
   "version": "2.7.6"
  }
 },
 "nbformat": 4,
 "nbformat_minor": 0
}