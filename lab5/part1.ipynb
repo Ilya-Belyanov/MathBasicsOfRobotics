{
 "cells": [
  {
   "cell_type": "markdown",
   "source": [
    "## Линейные и угловые скорости манипулятора из Лаб №3"
   ],
   "metadata": {
    "collapsed": false
   }
  },
  {
   "cell_type": "markdown",
   "source": [
    "#### Импорты"
   ],
   "metadata": {
    "collapsed": false
   }
  },
  {
   "cell_type": "code",
   "execution_count": 9,
   "metadata": {
    "collapsed": true
   },
   "outputs": [],
   "source": [
    "from math import pi\n",
    "\n",
    "import numpy as np\n",
    "import sympy as sy\n",
    "\n",
    "from src.forwardkinematick import fkMatrix, fkFrames, transformMatrices\n",
    "from src.printers import printNumpyMatrix\n",
    "from src.speedkinematick import *"
   ]
  },
  {
   "cell_type": "markdown",
   "source": [
    "#### Входные параметры"
   ],
   "metadata": {
    "collapsed": false
   }
  },
  {
   "cell_type": "code",
   "execution_count": 10,
   "outputs": [],
   "source": [
    "params = [pi / 2, -pi / 2, pi / 2, pi / 3, pi / 2]\n",
    "deltaParams = [0.1, 0.3, 0.2, -0.1, 0.6]"
   ],
   "metadata": {
    "collapsed": false,
    "pycharm": {
     "name": "#%%\n"
    }
   }
  },
  {
   "cell_type": "markdown",
   "source": [
    "#### Параметры среды робота"
   ],
   "metadata": {
    "collapsed": false
   }
  },
  {
   "cell_type": "code",
   "execution_count": 11,
   "outputs": [],
   "source": [
    "theta1, theta2, theta3, theta4, theta5 = sy.symbols('theta1'), sy.symbols('theta2'), \\\n",
    "                                             sy.symbols('theta3'), sy.symbols('theta4'), sy.symbols('theta5')\n",
    "\n",
    "r = [0, 5.75, 7.375, 0, 0]\n",
    "alpha = [-pi / 2, 0, 0, -pi / 2, 0]\n",
    "d = [3, 0, 0, 0, 4.125]\n",
    "thetas = [theta1, theta2 - pi / 2, theta3 + pi / 2, theta4 - pi / 2, theta5]\n",
    "\n",
    "arg = {theta1: params[0], theta2: params[1], theta3: params[2], theta4: params[3],\n",
    "                                   theta5: params[4]}"
   ],
   "metadata": {
    "collapsed": false,
    "pycharm": {
     "name": "#%%\n"
    }
   }
  },
  {
   "cell_type": "markdown",
   "source": [
    "#### Формирование всех матриц преобразования T(i-1, i)"
   ],
   "metadata": {
    "collapsed": false
   }
  },
  {
   "cell_type": "code",
   "execution_count": 12,
   "outputs": [],
   "source": [
    "links = transformMatrices(d, r, thetas, alpha)"
   ],
   "metadata": {
    "collapsed": false,
    "pycharm": {
     "name": "#%%\n"
    }
   }
  },
  {
   "cell_type": "markdown",
   "source": [
    "#### Формирование однородной матрицы преобразования"
   ],
   "metadata": {
    "collapsed": false
   }
  },
  {
   "cell_type": "code",
   "execution_count": 18,
   "outputs": [],
   "source": [
    "tform = fkMatrix(links)\n"
   ],
   "metadata": {
    "collapsed": false,
    "pycharm": {
     "name": "#%%\n"
    }
   }
  },
  {
   "cell_type": "markdown",
   "source": [
    "#### Формирование матриц преобразования T(0, i) где i от 0 до N"
   ],
   "metadata": {
    "collapsed": false
   }
  },
  {
   "cell_type": "code",
   "execution_count": 14,
   "outputs": [],
   "source": [
    "frames = fkFrames(links)"
   ],
   "metadata": {
    "collapsed": false,
    "pycharm": {
     "name": "#%%\n"
    }
   }
  },
  {
   "cell_type": "markdown",
   "source": [
    "#### Расчет линейной скорости"
   ],
   "metadata": {
    "collapsed": false
   }
  },
  {
   "cell_type": "code",
   "execution_count": 15,
   "outputs": [
    {
     "name": "stdout",
     "output_type": "stream",
     "text": [
      "~~~~~\n",
      "[-0.37]\n",
      "[-1.43]\n",
      "[-2.79]\n",
      "~~~~~\n"
     ]
    }
   ],
   "source": [
    "linear_speed = linearSpeed(tform, arg, deltaParams)\n",
    "\n",
    "printNumpyMatrix(linear_speed)"
   ],
   "metadata": {
    "collapsed": false,
    "pycharm": {
     "name": "#%%\n"
    }
   }
  },
  {
   "cell_type": "markdown",
   "source": [
    "#### Расчет угловой скорости"
   ],
   "metadata": {
    "collapsed": false
   }
  },
  {
   "cell_type": "code",
   "execution_count": 16,
   "outputs": [
    {
     "name": "stdout",
     "output_type": "stream",
     "text": [
      "~~~~~\n",
      "[-0.4]\n",
      "[0.3]\n",
      "[-0.42]\n",
      "~~~~~\n"
     ]
    }
   ],
   "source": [
    "angle_speed = angleSpeed(frames, arg, deltaParams)\n",
    "\n",
    "printNumpyMatrix(angle_speed)"
   ],
   "metadata": {
    "collapsed": false,
    "pycharm": {
     "name": "#%%\n"
    }
   }
  }
 ],
 "metadata": {
  "kernelspec": {
   "display_name": "Python 3",
   "language": "python",
   "name": "python3"
  },
  "language_info": {
   "codemirror_mode": {
    "name": "ipython",
    "version": 2
   },
   "file_extension": ".py",
   "mimetype": "text/x-python",
   "name": "python",
   "nbconvert_exporter": "python",
   "pygments_lexer": "ipython2",
   "version": "2.7.6"
  }
 },
 "nbformat": 4,
 "nbformat_minor": 0
}