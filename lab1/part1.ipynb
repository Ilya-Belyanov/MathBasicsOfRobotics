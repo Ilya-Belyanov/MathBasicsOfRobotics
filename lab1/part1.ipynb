{
 "cells": [
  {
   "cell_type": "markdown",
   "metadata": {
    "collapsed": true,
    "pycharm": {
     "name": "#%% md\n"
    }
   },
   "source": [
    "#### Импорты"
   ]
  },
  {
   "cell_type": "code",
   "execution_count": 1,
   "outputs": [],
   "source": [
    "import math\n",
    "\n",
    "from src.quaternion import Quaternion\n",
    "from src.printers import printQuaternion"
   ],
   "metadata": {
    "collapsed": false,
    "pycharm": {
     "name": "#%%\n"
    }
   }
  },
  {
   "cell_type": "markdown",
   "source": [
    "#### Векторное умножение кватернионов"
   ],
   "metadata": {
    "collapsed": false
   }
  },
  {
   "cell_type": "code",
   "execution_count": 2,
   "outputs": [
    {
     "name": "stdout",
     "output_type": "stream",
     "text": [
      "~~~~~\n",
      "Scalar:  1.0\n",
      "Vector: [1 1 1]\n",
      "Is Unit:  False\n",
      "~~~~~\n",
      "~~~~~\n",
      "Scalar:  1.0\n",
      "Vector: [1 1 1]\n",
      "Is Unit:  False\n",
      "~~~~~\n",
      "~~~~~\n",
      "Scalar:  -2.0\n",
      "Vector: [2. 2. 2.]\n",
      "Is Unit:  False\n",
      "~~~~~\n"
     ]
    }
   ],
   "source": [
    "a1 = Quaternion()\n",
    "a2 = Quaternion()\n",
    "a3 = a1 * a2\n",
    "printQuaternion(a1)\n",
    "printQuaternion(a2)\n",
    "printQuaternion(a3)"
   ],
   "metadata": {
    "collapsed": false,
    "pycharm": {
     "name": "#%%\n"
    }
   }
  },
  {
   "cell_type": "markdown",
   "source": [
    "#### Создание кватерниона из угла и оси вращения"
   ],
   "metadata": {
    "collapsed": false
   }
  },
  {
   "cell_type": "code",
   "execution_count": 3,
   "outputs": [
    {
     "name": "stdout",
     "output_type": "stream",
     "text": [
      "~~~~~\n",
      "Scalar:  1.0\n",
      "Vector: [0. 0. 0.]\n",
      "Is Unit:  True\n",
      "~~~~~\n",
      "~~~~~\n",
      "Scalar:  0.0\n",
      "Vector: [0. 1. 0.]\n",
      "Is Unit:  True\n",
      "~~~~~\n",
      "~~~~~\n",
      "Scalar:  0.0\n",
      "Vector: [0. 1. 0.]\n",
      "Is Unit:  True\n",
      "~~~~~\n"
     ]
    }
   ],
   "source": [
    "a4 = Quaternion.fromAngleAndVector(0)\n",
    "a5 = Quaternion.fromAngleAndVector(math.pi, [0, 1, 0])\n",
    "a6 = a4 * a5\n",
    "printQuaternion(a4)\n",
    "printQuaternion(a5)\n",
    "printQuaternion(a6)\n"
   ],
   "metadata": {
    "collapsed": false,
    "pycharm": {
     "name": "#%%\n"
    }
   }
  }
 ],
 "metadata": {
  "kernelspec": {
   "display_name": "Python 3",
   "language": "python",
   "name": "python3"
  },
  "language_info": {
   "codemirror_mode": {
    "name": "ipython",
    "version": 2
   },
   "file_extension": ".py",
   "mimetype": "text/x-python",
   "name": "python",
   "nbconvert_exporter": "python",
   "pygments_lexer": "ipython2",
   "version": "2.7.6"
  }
 },
 "nbformat": 4,
 "nbformat_minor": 0
}